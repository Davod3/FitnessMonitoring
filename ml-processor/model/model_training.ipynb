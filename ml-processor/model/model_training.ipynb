{
 "cells": [
  {
   "cell_type": "code",
   "execution_count": 2,
   "id": "cd200ad1",
   "metadata": {},
   "outputs": [],
   "source": [
    "import pandas as pd\n",
    "import numpy as np\n",
    "\n",
    "from matplotlib import pyplot as pl\n",
    "\n",
    "from sklearn.model_selection import cross_validate # for cross validation\n",
    "from sklearn.model_selection import train_test_split\n",
    "from sklearn.model_selection import GridSearchCV\n",
    "\n",
    "from sklearn.neighbors import KNeighborsClassifier\n",
    "from sklearn.svm import SVC\n",
    "from sklearn.ensemble import RandomForestClassifier\n",
    "\n",
    "from sklearn.metrics import f1_score\n",
    "from sklearn.metrics import confusion_matrix\n",
    "\n",
    "##############################################\n",
    "# Funções para converter e reverter a escala \n",
    "###\n",
    "\n",
    "def scale01(x):\n",
    "    return (x - x.min())/(x.max() - x.min())\n",
    "\n",
    "def unscale01(x, lower, upper):\n",
    "    #return (x * (upper - lower)) + lower\n",
    "    return (x * upper) - ((x - 1.0) * lower)\n",
    "\n",
    "#############################################"
   ]
  },
  {
   "cell_type": "markdown",
   "id": "867e21f9",
   "metadata": {},
   "source": [
    "\n"
   ]
  },
  {
   "cell_type": "markdown",
   "id": "ee08365d",
   "metadata": {},
   "source": [
    "<font size=\"5\">**Reading Data**</font>"
   ]
  },
  {
   "cell_type": "code",
   "execution_count": null,
   "id": "22ddd126",
   "metadata": {},
   "outputs": [],
   "source": [
    "df = pd.read_csv('trainning.data', delimiter=';')\n",
    "\n",
    "data = np.array(df.values[: , 2:], dtype = float)   # Pandas dtype = object, logo tudo é permitido\n",
    "(N, d) = data.shape\n",
    "\n",
    "print(N, 'x', d)"
   ]
  },
  {
   "cell_type": "code",
   "execution_count": null,
   "id": "c767de04",
   "metadata": {},
   "outputs": [],
   "source": []
  }
 ],
 "metadata": {
  "kernelspec": {
   "display_name": "Python 3 (ipykernel)",
   "language": "python",
   "name": "python3"
  },
  "language_info": {
   "codemirror_mode": {
    "name": "ipython",
    "version": 3
   },
   "file_extension": ".py",
   "mimetype": "text/x-python",
   "name": "python",
   "nbconvert_exporter": "python",
   "pygments_lexer": "ipython3",
   "version": "3.9.12"
  }
 },
 "nbformat": 4,
 "nbformat_minor": 5
}
